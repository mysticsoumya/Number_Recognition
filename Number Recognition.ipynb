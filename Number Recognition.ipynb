{
 "cells": [
  {
   "cell_type": "markdown",
   "metadata": {
    "_cell_guid": "82418877-8407-45ef-9b76-86ca80e07abf",
    "_execution_state": "idle",
    "_uuid": "483f57b296f8d69647bbec1154acfa2da3c6fc2f"
   },
   "source": [
    "## Number Recognition\n",
    "\n",
    "Handwritten digit recognition system not only detects scanned images of handwritten digits.Handwritten digit recognition using MNIST dataset is a major project made with the help of Neural Network. It basically detects the scanned images of handwritten digits.\n"
   ]
  },
  {
   "cell_type": "markdown",
   "metadata": {
    "_cell_guid": "440129fa-bb2d-47b8-9415-714467d98743",
    "_execution_state": "idle",
    "_uuid": "44f63ca7fc70094c75598c27b433b316ea406237"
   },
   "source": [
    "Importing key libraries, and reading data"
   ]
  },
  {
   "cell_type": "code",
   "execution_count": 1,
   "metadata": {
    "_cell_guid": "55ec59e1-8a8c-42d2-8ccc-b6d95ea198b4",
    "_execution_state": "busy",
    "_uuid": "a6d625ede9e19ac1f146a5f63d6ca19c4b98e20c"
   },
   "outputs": [
    {
     "name": "stderr",
     "output_type": "stream",
     "text": [
      "D:\\AI_ML\\Anaconda\\lib\\site-packages\\scipy\\__init__.py:155: UserWarning: A NumPy version >=1.18.5 and <1.25.0 is required for this version of SciPy (detected version 1.25.2\n",
      "  warnings.warn(f\"A NumPy version >={np_minversion} and <{np_maxversion}\"\n"
     ]
    }
   ],
   "source": [
    "import pandas as pd\n",
    "import numpy as np\n",
    "\n",
    "np.random.seed(1212)\n",
    "\n",
    "import keras\n",
    "from keras.models import Model\n",
    "from keras.utils import to_categorical\n",
    "from keras.layers import *\n",
    "from keras import optimizers"
   ]
  },
  {
   "cell_type": "code",
   "execution_count": 2,
   "metadata": {
    "_cell_guid": "daa0805e-e1dd-4806-b2db-ff0124febe7d",
    "_execution_state": "busy",
    "_uuid": "be0a7acbb3bfc83fd3103b4a401337aafe57c00d"
   },
   "outputs": [],
   "source": [
    "df_train = pd.read_csv('train.csv')\n",
    "df_test = pd.read_csv('test.csv')"
   ]
  },
  {
   "cell_type": "code",
   "execution_count": 3,
   "metadata": {},
   "outputs": [],
   "source": [
    "# PREPARE DATA FOR NEURAL NETWORK\n",
    "Y_train = df_train[\"label\"]\n",
    "X_train = df_train.drop(labels = [\"label\"],axis = 1)\n",
    "X_train = X_train / 255.0\n",
    "X_test = df_test / 255.0\n",
    "X_train = X_train.values.reshape(-1,28,28,1)\n",
    "X_test = X_test.values.reshape(-1,28,28,1)\n",
    "Y_train = to_categorical(Y_train, num_classes = 10)"
   ]
  },
  {
   "cell_type": "code",
   "execution_count": 4,
   "metadata": {},
   "outputs": [
    {
     "data": {
      "image/png": "[encoded data removed]",
      "text/plain": [
       "<Figure size 1500x450 with 30 Axes>"
      ]
     },
     "metadata": {},
     "output_type": "display_data"
    }
   ],
   "source": [
    "import matplotlib.pyplot as plt\n",
    "# PREVIEW IMAGES\n",
    "plt.figure(figsize=(15,4.5))\n",
    "for i in range(30):  \n",
    "    plt.subplot(3, 10, i+1)\n",
    "    plt.imshow(X_train[i].reshape((28,28)),cmap=plt.cm.binary)\n",
    "    plt.axis('off')\n",
    "plt.subplots_adjust(wspace=-0.1, hspace=-0.1)\n",
    "plt.show()"
   ]
  },
  {
   "cell_type": "code",
   "execution_count": 5,
   "metadata": {
    "_cell_guid": "dfae6a31-23ea-4d88-9fcd-06b8b705b614",
    "_execution_state": "busy",
    "_uuid": "0f7bfb5923e5b4ed5a5149c007a2cd39cb9b8282"
   },
   "outputs": [
    {
     "data": {
      "text/html": [
       "<div>\n",
       "<style scoped>\n",
       "    .dataframe tbody tr th:only-of-type {\n",
       "        vertical-align: middle;\n",
       "    }\n",
       "\n",
       "    .dataframe tbody tr th {\n",
       "        vertical-align: top;\n",
       "    }\n",
       "\n",
       "    .dataframe thead th {\n",
       "        text-align: right;\n",
       "    }\n",
       "</style>\n",
       "<table border=\"1\" class=\"dataframe\">\n",
       "  <thead>\n",
       "    <tr style=\"text-align: right;\">\n",
       "      <th></th>\n",
       "      <th>label</th>\n",
       "      <th>pixel0</th>\n",
       "      <th>pixel1</th>\n",
       "      <th>pixel2</th>\n",
       "      <th>pixel3</th>\n",
       "      <th>pixel4</th>\n",
       "      <th>pixel5</th>\n",
       "      <th>pixel6</th>\n",
       "      <th>pixel7</th>\n",
       "      <th>pixel8</th>\n",
       "      <th>...</th>\n",
       "      <th>pixel774</th>\n",
       "      <th>pixel775</th>\n",
       "      <th>pixel776</th>\n",
       "      <th>pixel777</th>\n",
       "      <th>pixel778</th>\n",
       "      <th>pixel779</th>\n",
       "      <th>pixel780</th>\n",
       "      <th>pixel781</th>\n",
       "      <th>pixel782</th>\n",
       "      <th>pixel783</th>\n",
       "    </tr>\n",
       "  </thead>\n",
       "  <tbody>\n",
       "    <tr>\n",
       "      <th>0</th>\n",
       "      <td>1</td>\n",
       "      <td>0</td>\n",
       "      <td>0</td>\n",
       "      <td>0</td>\n",
       "      <td>0</td>\n",
       "      <td>0</td>\n",
       "      <td>0</td>\n",
       "      <td>0</td>\n",
       "      <td>0</td>\n",
       "      <td>0</td>\n",
       "      <td>...</td>\n",
       "      <td>0</td>\n",
       "      <td>0</td>\n",
       "      <td>0</td>\n",
       "      <td>0</td>\n",
       "      <td>0</td>\n",
       "      <td>0</td>\n",
       "      <td>0</td>\n",
       "      <td>0</td>\n",
       "      <td>0</td>\n",
       "      <td>0</td>\n",
       "    </tr>\n",
       "    <tr>\n",
       "      <th>1</th>\n",
       "      <td>0</td>\n",
       "      <td>0</td>\n",
       "      <td>0</td>\n",
       "      <td>0</td>\n",
       "      <td>0</td>\n",
       "      <td>0</td>\n",
       "      <td>0</td>\n",
       "      <td>0</td>\n",
       "      <td>0</td>\n",
       "      <td>0</td>\n",
       "      <td>...</td>\n",
       "      <td>0</td>\n",
       "      <td>0</td>\n",
       "      <td>0</td>\n",
       "      <td>0</td>\n",
       "      <td>0</td>\n",
       "      <td>0</td>\n",
       "      <td>0</td>\n",
       "      <td>0</td>\n",
       "      <td>0</td>\n",
       "      <td>0</td>\n",
       "    </tr>\n",
       "    <tr>\n",
       "      <th>2</th>\n",
       "      <td>1</td>\n",
       "      <td>0</td>\n",
       "      <td>0</td>\n",
       "      <td>0</td>\n",
       "      <td>0</td>\n",
       "      <td>0</td>\n",
       "      <td>0</td>\n",
       "      <td>0</td>\n",
       "      <td>0</td>\n",
       "      <td>0</td>\n",
       "      <td>...</td>\n",
       "      <td>0</td>\n",
       "      <td>0</td>\n",
       "      <td>0</td>\n",
       "      <td>0</td>\n",
       "      <td>0</td>\n",
       "      <td>0</td>\n",
       "      <td>0</td>\n",
       "      <td>0</td>\n",
       "      <td>0</td>\n",
       "      <td>0</td>\n",
       "    </tr>\n",
       "    <tr>\n",
       "      <th>3</th>\n",
       "      <td>4</td>\n",
       "      <td>0</td>\n",
       "      <td>0</td>\n",
       "      <td>0</td>\n",
       "      <td>0</td>\n",
       "      <td>0</td>\n",
       "      <td>0</td>\n",
       "      <td>0</td>\n",
       "      <td>0</td>\n",
       "      <td>0</td>\n",
       "      <td>...</td>\n",
       "      <td>0</td>\n",
       "      <td>0</td>\n",
       "      <td>0</td>\n",
       "      <td>0</td>\n",
       "      <td>0</td>\n",
       "      <td>0</td>\n",
       "      <td>0</td>\n",
       "      <td>0</td>\n",
       "      <td>0</td>\n",
       "      <td>0</td>\n",
       "    </tr>\n",
       "    <tr>\n",
       "      <th>4</th>\n",
       "      <td>0</td>\n",
       "      <td>0</td>\n",
       "      <td>0</td>\n",
       "      <td>0</td>\n",
       "      <td>0</td>\n",
       "      <td>0</td>\n",
       "      <td>0</td>\n",
       "      <td>0</td>\n",
       "      <td>0</td>\n",
       "      <td>0</td>\n",
       "      <td>...</td>\n",
       "      <td>0</td>\n",
       "      <td>0</td>\n",
       "      <td>0</td>\n",
       "      <td>0</td>\n",
       "      <td>0</td>\n",
       "      <td>0</td>\n",
       "      <td>0</td>\n",
       "      <td>0</td>\n",
       "      <td>0</td>\n",
       "      <td>0</td>\n",
       "    </tr>\n",
       "  </tbody>\n",
       "</table>\n",
       "<p>5 rows × 785 columns</p>\n",
       "</div>"
      ],
      "text/plain": [
       "   label  pixel0  pixel1  pixel2  pixel3  pixel4  pixel5  pixel6  pixel7  \\\n",
       "0      1       0       0       0       0       0       0       0       0   \n",
       "1      0       0       0       0       0       0       0       0       0   \n",
       "2      1       0       0       0       0       0       0       0       0   \n",
       "3      4       0       0       0       0       0       0       0       0   \n",
       "4      0       0       0       0       0       0       0       0       0   \n",
       "\n",
       "   pixel8  ...  pixel774  pixel775  pixel776  pixel777  pixel778  pixel779  \\\n",
       "0       0  ...         0         0         0         0         0         0   \n",
       "1       0  ...         0         0         0         0         0         0   \n",
       "2       0  ...         0         0         0         0         0         0   \n",
       "3       0  ...         0         0         0         0         0         0   \n",
       "4       0  ...         0         0         0         0         0         0   \n",
       "\n",
       "   pixel780  pixel781  pixel782  pixel783  \n",
       "0         0         0         0         0  \n",
       "1         0         0         0         0  \n",
       "2         0         0         0         0  \n",
       "3         0         0         0         0  \n",
       "4         0         0         0         0  \n",
       "\n",
       "[5 rows x 785 columns]"
      ]
     },
     "execution_count": 5,
     "metadata": {},
     "output_type": "execute_result"
    }
   ],
   "source": [
    "df_train.head() # 784 features, 1 label"
   ]
  },
  {
   "cell_type": "markdown",
   "metadata": {
    "_cell_guid": "45bd232a-4000-4a06-a3ed-0be9f993746c",
    "_execution_state": "idle",
    "_uuid": "f0970dcbc0b6791dc44936d8d63e6985dfb6960c"
   },
   "source": [
    "## Splitting into training and validation dataset"
   ]
  },
  {
   "cell_type": "code",
   "execution_count": 6,
   "metadata": {
    "_cell_guid": "bb78680a-ce50-4ee9-a77f-265b9ee38aee",
    "_execution_state": "busy",
    "_uuid": "16e39b5512ed29c8f9d7db51331693e4689ce306"
   },
   "outputs": [
    {
     "name": "stdout",
     "output_type": "stream",
     "text": [
      "(28000, 784)\n"
     ]
    }
   ],
   "source": [
    "df_features = df_train.iloc[:, 1:785]\n",
    "df_label = df_train.iloc[:, 0]\n",
    "\n",
    "X_test = df_test.iloc[:, 0:784]\n",
    "\n",
    "print(X_test.shape)"
   ]
  },
  {
   "cell_type": "code",
   "execution_count": 7,
   "metadata": {
    "_cell_guid": "a3fb0b37-1edf-42bd-b951-86f254b78fc1",
    "_execution_state": "busy",
    "_uuid": "a98808f6188e9c44741ad2b5c25a894106406dfc"
   },
   "outputs": [],
   "source": [
    "from sklearn.model_selection import train_test_split\n",
    "X_train, X_cv, y_train, y_cv = train_test_split(df_features, df_label, \n",
    "                                                test_size = 0.2,\n",
    "                                                random_state = 1212)\n",
    "\n",
    "X_train = X_train.values.reshape(33600, 784) #(33600, 784)\n",
    "X_cv = X_cv.values.reshape(8400, 784) #(8400, 784)\n",
    "\n",
    "X_test = X_test.values.reshape(28000, 784)"
   ]
  },
  {
   "cell_type": "markdown",
   "metadata": {
    "_cell_guid": "4486ba9e-b8b3-4f09-a597-3d5e6bbd6c1c",
    "_execution_state": "idle",
    "_uuid": "9a10a6e1aae9645a7c3e5a703d78d9c3b096f6d3"
   },
   "source": [
    "## Data cleaning, normalization and selection"
   ]
  },
  {
   "cell_type": "code",
   "execution_count": 8,
   "metadata": {
    "_cell_guid": "4d0e07b5-28dd-42f1-b425-6414aea90cde",
    "_execution_state": "busy",
    "_uuid": "cc2daf9f099fb62e3b470f913349428ef396b75b"
   },
   "outputs": [
    {
     "name": "stdout",
     "output_type": "stream",
     "text": [
      "(0, 255)\n"
     ]
    }
   ],
   "source": [
    "print((min(X_train[1]), max(X_train[1])))"
   ]
  },
  {
   "cell_type": "markdown",
   "metadata": {
    "_cell_guid": "60b333cc-a76e-4713-97f5-a9095e27e43b",
    "_execution_state": "idle",
    "_uuid": "11d4f22158c013b3f028f5c11340b4a4b7291d1e"
   },
   "source": [
    "As the pixel intensities are currently between the range of 0 and 255, we proceed to normalize the features, using broadcasting. In addition, we proceed to convert our labels from a class vector to binary One Hot Encoded"
   ]
  },
  {
   "cell_type": "code",
   "execution_count": 9,
   "metadata": {
    "_cell_guid": "e9f8eaa0-c77e-4510-9ff1-bb56e1d5f76d",
    "_execution_state": "busy",
    "_uuid": "c24261ffd2384078a836a909ea4839a31d51dd66"
   },
   "outputs": [],
   "source": [
    "# Feature Normalization \n",
    "X_train = X_train.astype('float32'); X_cv= X_cv.astype('float32'); X_test = X_test.astype('float32')\n",
    "X_train /= 255; X_cv /= 255; X_test /= 255\n",
    "\n",
    "# Convert labels to One Hot Encoded\n",
    "num_digits = 10\n",
    "y_train = keras.utils.to_categorical(y_train, num_digits)\n",
    "y_cv = keras.utils.to_categorical(y_cv, num_digits)"
   ]
  },
  {
   "cell_type": "code",
   "execution_count": 10,
   "metadata": {
    "_cell_guid": "6667ca35-44ff-43f3-b88b-27b787be4ee0",
    "_execution_state": "busy",
    "_uuid": "3fdf37a538504f4e5288cbb8b70a719c2689caca"
   },
   "outputs": [
    {
     "name": "stdout",
     "output_type": "stream",
     "text": [
      "[0. 0. 1. 0. 0. 0. 0. 0. 0. 0.]\n",
      "[0. 0. 0. 0. 0. 0. 0. 1. 0. 0.]\n"
     ]
    }
   ],
   "source": [
    "# Printing 2 examples of labels after conversion\n",
    "print(y_train[0]) # 2\n",
    "print(y_train[3]) # 7"
   ]
  },
  {
   "cell_type": "markdown",
   "metadata": {
    "_cell_guid": "7d4e437c-12ea-4bad-a580-5504e8a77da0",
    "_execution_state": "idle",
    "_uuid": "0776b5f2aff1ebb6f12c2a9ee8e93013c690caf6"
   },
   "source": [
    "## Model Fitting"
   ]
  },
  {
   "cell_type": "markdown",
   "metadata": {
    "_cell_guid": "8f441392-a707-499c-8816-00c8aa1a7757",
    "_execution_state": "idle",
    "_uuid": "064d83d74bf2e0842b21dcb3cc93f8427b04b6ea"
   },
   "source": [
    "Model 1: Simple Neural Network with 4 layers (300, 100, 100, 200)\n",
    "\n",
    "In our first model, we will use the Keras library to train a neural network with the activation function set as ReLu. To determine which class to output, we will rely on the SoftMax function"
   ]
  },
  {
   "cell_type": "code",
   "execution_count": 11,
   "metadata": {
    "_cell_guid": "be9af3d4-ddac-4f85-945f-bd1cdf09fc15",
    "_execution_state": "busy",
    "_uuid": "b88da407b6dab83e54b5380e0e62459577949932"
   },
   "outputs": [],
   "source": [
    "# Input Parameters\n",
    "n_input = 784 # number of features\n",
    "n_hidden_1 = 300\n",
    "n_hidden_2 = 100\n",
    "n_hidden_3 = 100\n",
    "n_hidden_4 = 200\n",
    "num_digits = 10"
   ]
  },
  {
   "cell_type": "code",
   "execution_count": 12,
   "metadata": {
    "_cell_guid": "74eac473-a6cb-4356-a982-ef3cb6c971de",
    "_execution_state": "busy",
    "_uuid": "f97a558010d88407363bbb08fa00e7c87a3d6ceb"
   },
   "outputs": [],
   "source": [
    "Inp = Input(shape=(784,))\n",
    "x = Dense(n_hidden_1, activation='relu', name = \"Hidden_Layer_1\")(Inp)\n",
    "x = Dense(n_hidden_2, activation='relu', name = \"Hidden_Layer_2\")(x)\n",
    "x = Dense(n_hidden_3, activation='relu', name = \"Hidden_Layer_3\")(x)\n",
    "x = Dense(n_hidden_4, activation='relu', name = \"Hidden_Layer_4\")(x)\n",
    "output = Dense(num_digits, activation='softmax', name = \"Output_Layer\")(x)"
   ]
  },
  {
   "cell_type": "code",
   "execution_count": 13,
   "metadata": {
    "_cell_guid": "bf09781e-6376-4f2d-a872-6292d466f657",
    "_execution_state": "busy",
    "_uuid": "aaf8fe1cd6cb32675f0ed5009d7bc31d6f71e4ea"
   },
   "outputs": [
    {
     "name": "stdout",
     "output_type": "stream",
     "text": [
      "Model: \"model\"\n",
      "_________________________________________________________________\n",
      " Layer (type)                Output Shape              Param #   \n",
      "=================================================================\n",
      " input_1 (InputLayer)        [(None, 784)]             0         \n",
      "                                                                 \n",
      " Hidden_Layer_1 (Dense)      (None, 300)               235500    \n",
      "                                                                 \n",
      " Hidden_Layer_2 (Dense)      (None, 100)               30100     \n",
      "                                                                 \n",
      " Hidden_Layer_3 (Dense)      (None, 100)               10100     \n",
      "                                                                 \n",
      " Hidden_Layer_4 (Dense)      (None, 200)               20200     \n",
      "                                                                 \n",
      " Output_Layer (Dense)        (None, 10)                2010      \n",
      "                                                                 \n",
      "=================================================================\n",
      "Total params: 297910 (1.14 MB)\n",
      "Trainable params: 297910 (1.14 MB)\n",
      "Non-trainable params: 0 (0.00 Byte)\n",
      "_________________________________________________________________\n"
     ]
    }
   ],
   "source": [
    "# Our model would have '6' layers - input layer, 4 hidden layer and 1 output layer\n",
    "model = Model(Inp, output)\n",
    "model.summary() # We have 297,910 parameters to estimate"
   ]
  },
  {
   "cell_type": "code",
   "execution_count": 14,
   "metadata": {
    "_cell_guid": "906807f1-ed62-4dee-a423-5f15842fb28f",
    "_execution_state": "busy",
    "_uuid": "c4ea7858fbdf41308dcdb5d373af11484d5b5140"
   },
   "outputs": [
    {
     "name": "stderr",
     "output_type": "stream",
     "text": [
      "WARNING:absl:`lr` is deprecated in Keras optimizer, please use `learning_rate` or use the legacy optimizer, e.g.,tf.keras.optimizers.legacy.SGD.\n"
     ]
    }
   ],
   "source": [
    "# Insert Hyperparameters\n",
    "learning_rate = 0.1\n",
    "training_epochs = 20\n",
    "batch_size = 100\n",
    "sgd = optimizers.SGD(lr=learning_rate)"
   ]
  },
  {
   "cell_type": "code",
   "execution_count": 15,
   "metadata": {
    "_cell_guid": "5678ce6d-58eb-4394-9a77-b67c94c2ca4f",
    "_execution_state": "busy",
    "_uuid": "775193de659c41c949495a2afa3b14024a2536a7"
   },
   "outputs": [],
   "source": [
    "# We rely on the plain vanilla Stochastic Gradient Descent as our optimizing methodology\n",
    "model.compile(loss='categorical_crossentropy',\n",
    "              optimizer='sgd',\n",
    "              metrics=['accuracy'])"
   ]
  },
  {
   "cell_type": "code",
   "execution_count": 16,
   "metadata": {
    "_cell_guid": "1a547d04-6aeb-4c76-8fbc-7fbca1b50b2a",
    "_execution_state": "busy",
    "_uuid": "4960dfa65394fb0314ce9cb7af63d48709a39d1a"
   },
   "outputs": [
    {
     "name": "stdout",
     "output_type": "stream",
     "text": [
      "Epoch 1/20\n",
      "336/336 - 4s - loss: 1.8452 - accuracy: 0.4704 - val_loss: 0.9932 - val_accuracy: 0.7792 - 4s/epoch - 12ms/step\n",
      "Epoch 2/20\n",
      "336/336 - 3s - loss: 0.6285 - accuracy: 0.8360 - val_loss: 0.4508 - val_accuracy: 0.8749 - 3s/epoch - 8ms/step\n",
      "Epoch 3/20\n",
      "336/336 - 3s - loss: 0.4046 - accuracy: 0.8851 - val_loss: 0.3553 - val_accuracy: 0.8957 - 3s/epoch - 10ms/step\n",
      "Epoch 4/20\n",
      "336/336 - 3s - loss: 0.3378 - accuracy: 0.9011 - val_loss: 0.3198 - val_accuracy: 0.9068 - 3s/epoch - 8ms/step\n",
      "Epoch 5/20\n",
      "336/336 - 2s - loss: 0.2997 - accuracy: 0.9121 - val_loss: 0.2880 - val_accuracy: 0.9182 - 2s/epoch - 7ms/step\n",
      "Epoch 6/20\n",
      "336/336 - 2s - loss: 0.2706 - accuracy: 0.9190 - val_loss: 0.2627 - val_accuracy: 0.9229 - 2s/epoch - 5ms/step\n",
      "Epoch 7/20\n",
      "336/336 - 4s - loss: 0.2478 - accuracy: 0.9266 - val_loss: 0.2489 - val_accuracy: 0.9271 - 4s/epoch - 11ms/step\n",
      "Epoch 8/20\n",
      "336/336 - 2s - loss: 0.2290 - accuracy: 0.9314 - val_loss: 0.2317 - val_accuracy: 0.9356 - 2s/epoch - 7ms/step\n",
      "Epoch 9/20\n",
      "336/336 - 2s - loss: 0.2122 - accuracy: 0.9373 - val_loss: 0.2170 - val_accuracy: 0.9367 - 2s/epoch - 7ms/step\n",
      "Epoch 10/20\n",
      "336/336 - 3s - loss: 0.1971 - accuracy: 0.9421 - val_loss: 0.2089 - val_accuracy: 0.9414 - 3s/epoch - 8ms/step\n",
      "Epoch 11/20\n",
      "336/336 - 2s - loss: 0.1852 - accuracy: 0.9457 - val_loss: 0.1963 - val_accuracy: 0.9431 - 2s/epoch - 5ms/step\n",
      "Epoch 12/20\n",
      "336/336 - 2s - loss: 0.1734 - accuracy: 0.9493 - val_loss: 0.1884 - val_accuracy: 0.9464 - 2s/epoch - 6ms/step\n",
      "Epoch 13/20\n",
      "336/336 - 2s - loss: 0.1635 - accuracy: 0.9525 - val_loss: 0.1829 - val_accuracy: 0.9464 - 2s/epoch - 7ms/step\n",
      "Epoch 14/20\n",
      "336/336 - 3s - loss: 0.1542 - accuracy: 0.9545 - val_loss: 0.1719 - val_accuracy: 0.9486 - 3s/epoch - 8ms/step\n",
      "Epoch 15/20\n",
      "336/336 - 3s - loss: 0.1452 - accuracy: 0.9575 - val_loss: 0.1653 - val_accuracy: 0.9510 - 3s/epoch - 10ms/step\n",
      "Epoch 16/20\n",
      "336/336 - 3s - loss: 0.1381 - accuracy: 0.9596 - val_loss: 0.1593 - val_accuracy: 0.9521 - 3s/epoch - 8ms/step\n",
      "Epoch 17/20\n",
      "336/336 - 3s - loss: 0.1307 - accuracy: 0.9613 - val_loss: 0.1569 - val_accuracy: 0.9533 - 3s/epoch - 10ms/step\n",
      "Epoch 18/20\n",
      "336/336 - 2s - loss: 0.1240 - accuracy: 0.9633 - val_loss: 0.1529 - val_accuracy: 0.9530 - 2s/epoch - 7ms/step\n",
      "Epoch 19/20\n",
      "336/336 - 3s - loss: 0.1180 - accuracy: 0.9656 - val_loss: 0.1501 - val_accuracy: 0.9552 - 3s/epoch - 8ms/step\n",
      "Epoch 20/20\n",
      "336/336 - 3s - loss: 0.1121 - accuracy: 0.9672 - val_loss: 0.1430 - val_accuracy: 0.9560 - 3s/epoch - 7ms/step\n"
     ]
    }
   ],
   "source": [
    "history1 = model.fit(X_train, y_train,\n",
    "                     batch_size = batch_size,\n",
    "                     epochs = training_epochs,\n",
    "                     verbose = 2,\n",
    "                     validation_data=(X_cv, y_cv))"
   ]
  },
  {
   "cell_type": "markdown",
   "metadata": {
    "_cell_guid": "2fee2dfc-23d2-480f-918e-54fb5386c4ea",
    "_execution_state": "idle",
    "_uuid": "6121bf7f8adbeaf85b3aef6167444b555b920440"
   },
   "source": [
    "Using a 4 layer neural network with:\n",
    "\n",
    "1. 20 training epochs\n",
    "2. A training batch size of 100\n",
    "3. Hidden layers set as (300, 100, 100, 200)\n",
    "4. Learning rate of 0.1\n",
    "\n",
    "Achieved a training score of around 96-98% and a test score of around 95 - 97%."
   ]
  },
  {
   "cell_type": "code",
   "execution_count": 17,
   "metadata": {
    "_cell_guid": "4e7a2ba9-ac08-4355-a37f-2336220cfda7",
    "_execution_state": "busy",
    "_uuid": "3d9c3ffb9722b640ea0682e5826971045091db66"
   },
   "outputs": [
    {
     "name": "stderr",
     "output_type": "stream",
     "text": [
      "WARNING:absl:`lr` is deprecated in Keras optimizer, please use `learning_rate` or use the legacy optimizer, e.g.,tf.keras.optimizers.legacy.Adam.\n"
     ]
    }
   ],
   "source": [
    "Inp = Input(shape=(784,))\n",
    "x = Dense(n_hidden_1, activation='relu', name = \"Hidden_Layer_1\")(Inp)\n",
    "x = Dense(n_hidden_2, activation='relu', name = \"Hidden_Layer_2\")(x)\n",
    "x = Dense(n_hidden_3, activation='relu', name = \"Hidden_Layer_3\")(x)\n",
    "x = Dense(n_hidden_4, activation='relu', name = \"Hidden_Layer_4\")(x)\n",
    "output = Dense(num_digits, activation='softmax', name = \"Output_Layer\")(x)\n",
    "\n",
    "# We rely on ADAM as our optimizing methodology\n",
    "adam = keras.optimizers.Adam(lr=learning_rate)\n",
    "model2 = Model(Inp, output)\n",
    "\n",
    "model2.compile(loss='categorical_crossentropy',\n",
    "              optimizer='adam',\n",
    "              metrics=['accuracy'])"
   ]
  },
  {
   "cell_type": "code",
   "execution_count": 18,
   "metadata": {
    "_cell_guid": "e4470ac7-6888-4b10-a4e5-8bd4e22301cf",
    "_execution_state": "busy",
    "_uuid": "7f94a2f9d7db89bf3fb28ecff64dbf7a496b0b9c"
   },
   "outputs": [
    {
     "name": "stdout",
     "output_type": "stream",
     "text": [
      "Epoch 1/20\n",
      "336/336 - 5s - loss: 0.3411 - accuracy: 0.8999 - val_loss: 0.1608 - val_accuracy: 0.9545 - 5s/epoch - 14ms/step\n",
      "Epoch 2/20\n",
      "336/336 - 4s - loss: 0.1211 - accuracy: 0.9626 - val_loss: 0.1173 - val_accuracy: 0.9656 - 4s/epoch - 12ms/step\n",
      "Epoch 3/20\n",
      "336/336 - 4s - loss: 0.0774 - accuracy: 0.9752 - val_loss: 0.1039 - val_accuracy: 0.9677 - 4s/epoch - 11ms/step\n",
      "Epoch 4/20\n",
      "336/336 - 4s - loss: 0.0557 - accuracy: 0.9819 - val_loss: 0.1120 - val_accuracy: 0.9680 - 4s/epoch - 12ms/step\n",
      "Epoch 5/20\n",
      "336/336 - 5s - loss: 0.0463 - accuracy: 0.9850 - val_loss: 0.0870 - val_accuracy: 0.9750 - 5s/epoch - 13ms/step\n",
      "Epoch 6/20\n",
      "336/336 - 4s - loss: 0.0328 - accuracy: 0.9885 - val_loss: 0.1017 - val_accuracy: 0.9736 - 4s/epoch - 13ms/step\n",
      "Epoch 7/20\n",
      "336/336 - 5s - loss: 0.0306 - accuracy: 0.9900 - val_loss: 0.0958 - val_accuracy: 0.9752 - 5s/epoch - 16ms/step\n",
      "Epoch 8/20\n",
      "336/336 - 6s - loss: 0.0252 - accuracy: 0.9923 - val_loss: 0.0994 - val_accuracy: 0.9750 - 6s/epoch - 17ms/step\n",
      "Epoch 9/20\n",
      "336/336 - 4s - loss: 0.0220 - accuracy: 0.9932 - val_loss: 0.1171 - val_accuracy: 0.9723 - 4s/epoch - 12ms/step\n",
      "Epoch 10/20\n",
      "336/336 - 4s - loss: 0.0174 - accuracy: 0.9948 - val_loss: 0.1209 - val_accuracy: 0.9739 - 4s/epoch - 12ms/step\n",
      "Epoch 11/20\n",
      "336/336 - 4s - loss: 0.0230 - accuracy: 0.9924 - val_loss: 0.1009 - val_accuracy: 0.9742 - 4s/epoch - 12ms/step\n",
      "Epoch 12/20\n",
      "336/336 - 4s - loss: 0.0188 - accuracy: 0.9941 - val_loss: 0.1076 - val_accuracy: 0.9757 - 4s/epoch - 12ms/step\n",
      "Epoch 13/20\n",
      "336/336 - 4s - loss: 0.0114 - accuracy: 0.9964 - val_loss: 0.1154 - val_accuracy: 0.9738 - 4s/epoch - 11ms/step\n",
      "Epoch 14/20\n",
      "336/336 - 4s - loss: 0.0127 - accuracy: 0.9962 - val_loss: 0.1408 - val_accuracy: 0.9715 - 4s/epoch - 11ms/step\n",
      "Epoch 15/20\n",
      "336/336 - 4s - loss: 0.0201 - accuracy: 0.9934 - val_loss: 0.1118 - val_accuracy: 0.9773 - 4s/epoch - 11ms/step\n",
      "Epoch 16/20\n",
      "336/336 - 4s - loss: 0.0106 - accuracy: 0.9965 - val_loss: 0.1274 - val_accuracy: 0.9756 - 4s/epoch - 11ms/step\n",
      "Epoch 17/20\n",
      "336/336 - 4s - loss: 0.0125 - accuracy: 0.9963 - val_loss: 0.1306 - val_accuracy: 0.9748 - 4s/epoch - 13ms/step\n",
      "Epoch 18/20\n",
      "336/336 - 4s - loss: 0.0163 - accuracy: 0.9946 - val_loss: 0.1306 - val_accuracy: 0.9744 - 4s/epoch - 12ms/step\n",
      "Epoch 19/20\n",
      "336/336 - 4s - loss: 0.0103 - accuracy: 0.9969 - val_loss: 0.1301 - val_accuracy: 0.9756 - 4s/epoch - 11ms/step\n",
      "Epoch 20/20\n",
      "336/336 - 4s - loss: 0.0104 - accuracy: 0.9969 - val_loss: 0.1176 - val_accuracy: 0.9762 - 4s/epoch - 12ms/step\n"
     ]
    }
   ],
   "source": [
    "history2 = model2.fit(X_train, y_train,\n",
    "                      batch_size = batch_size,\n",
    "                      epochs = training_epochs,\n",
    "                      verbose = 2,\n",
    "                      validation_data=(X_cv, y_cv))"
   ]
  },
  {
   "cell_type": "markdown",
   "metadata": {
    "_cell_guid": "e5b9ec27-6585-4f51-be9e-9e86120f723a",
    "_execution_state": "idle",
    "_uuid": "beae0734aefb9f26144b556c753032b66fe99911"
   },
   "source": [
    "As it turns out, it does appear to be the case that the optimizer plays a crucial part in the validation score. In particular, the model which relies on 'Adam' as its optimizer tend to perform 1.5 - 2.5% better on average. Going forward, we will use 'Adam' as our optimizer of choice.\n",
    "\n",
    "What if we changed the learning rate from 0.1 to 0.01, or 0.5? Will it have any impact on the accuracy?\n",
    "Model 2A"
   ]
  },
  {
   "cell_type": "code",
   "execution_count": 19,
   "metadata": {
    "_cell_guid": "da528246-4223-42ff-af96-cd3419c34507",
    "_execution_state": "busy",
    "_uuid": "d2e88469ac4ed8ac19a195d71941178d8cdb7c32"
   },
   "outputs": [
    {
     "name": "stderr",
     "output_type": "stream",
     "text": [
      "WARNING:absl:`lr` is deprecated in Keras optimizer, please use `learning_rate` or use the legacy optimizer, e.g.,tf.keras.optimizers.legacy.Adam.\n"
     ]
    }
   ],
   "source": [
    "Inp = Input(shape=(784,))\n",
    "x = Dense(n_hidden_1, activation='relu', name = \"Hidden_Layer_1\")(Inp)\n",
    "x = Dense(n_hidden_2, activation='relu', name = \"Hidden_Layer_2\")(x)\n",
    "x = Dense(n_hidden_3, activation='relu', name = \"Hidden_Layer_3\")(x)\n",
    "x = Dense(n_hidden_4, activation='relu', name = \"Hidden_Layer_4\")(x)\n",
    "output = Dense(num_digits, activation='softmax', name = \"Output_Layer\")(x)\n",
    "\n",
    "learning_rate = 0.01\n",
    "adam = keras.optimizers.Adam(lr=learning_rate)\n",
    "model2a = Model(Inp, output)\n",
    "\n",
    "model2a.compile(loss='categorical_crossentropy',\n",
    "              optimizer='adam',\n",
    "              metrics=['accuracy'])"
   ]
  },
  {
   "cell_type": "code",
   "execution_count": 20,
   "metadata": {
    "_cell_guid": "847391bb-4640-4117-a35e-5593d823bbc4",
    "_execution_state": "busy",
    "_uuid": "8e397c8d027a4f27b1f72ac9333de51cbc335cd6"
   },
   "outputs": [
    {
     "name": "stdout",
     "output_type": "stream",
     "text": [
      "Epoch 1/20\n",
      "336/336 - 5s - loss: 0.3428 - accuracy: 0.8998 - val_loss: 0.1711 - val_accuracy: 0.9480 - 5s/epoch - 16ms/step\n",
      "Epoch 2/20\n",
      "336/336 - 4s - loss: 0.1252 - accuracy: 0.9622 - val_loss: 0.1186 - val_accuracy: 0.9639 - 4s/epoch - 11ms/step\n",
      "Epoch 3/20\n",
      "336/336 - 4s - loss: 0.0854 - accuracy: 0.9729 - val_loss: 0.1027 - val_accuracy: 0.9704 - 4s/epoch - 11ms/step\n",
      "Epoch 4/20\n",
      "336/336 - 4s - loss: 0.0569 - accuracy: 0.9822 - val_loss: 0.0980 - val_accuracy: 0.9714 - 4s/epoch - 12ms/step\n",
      "Epoch 5/20\n",
      "336/336 - 4s - loss: 0.0451 - accuracy: 0.9857 - val_loss: 0.0992 - val_accuracy: 0.9729 - 4s/epoch - 11ms/step\n",
      "Epoch 6/20\n",
      "336/336 - 3s - loss: 0.0328 - accuracy: 0.9896 - val_loss: 0.0920 - val_accuracy: 0.9736 - 3s/epoch - 10ms/step\n",
      "Epoch 7/20\n",
      "336/336 - 4s - loss: 0.0297 - accuracy: 0.9898 - val_loss: 0.1020 - val_accuracy: 0.9732 - 4s/epoch - 12ms/step\n",
      "Epoch 8/20\n",
      "336/336 - 5s - loss: 0.0277 - accuracy: 0.9914 - val_loss: 0.0979 - val_accuracy: 0.9751 - 5s/epoch - 14ms/step\n",
      "Epoch 9/20\n",
      "336/336 - 4s - loss: 0.0212 - accuracy: 0.9933 - val_loss: 0.1125 - val_accuracy: 0.9736 - 4s/epoch - 12ms/step\n",
      "Epoch 10/20\n",
      "336/336 - 4s - loss: 0.0192 - accuracy: 0.9935 - val_loss: 0.1137 - val_accuracy: 0.9748 - 4s/epoch - 12ms/step\n",
      "Epoch 11/20\n",
      "336/336 - 4s - loss: 0.0198 - accuracy: 0.9932 - val_loss: 0.1051 - val_accuracy: 0.9758 - 4s/epoch - 12ms/step\n",
      "Epoch 12/20\n",
      "336/336 - 4s - loss: 0.0199 - accuracy: 0.9936 - val_loss: 0.1215 - val_accuracy: 0.9725 - 4s/epoch - 11ms/step\n",
      "Epoch 13/20\n",
      "336/336 - 4s - loss: 0.0173 - accuracy: 0.9943 - val_loss: 0.1040 - val_accuracy: 0.9751 - 4s/epoch - 11ms/step\n",
      "Epoch 14/20\n",
      "336/336 - 4s - loss: 0.0174 - accuracy: 0.9943 - val_loss: 0.1319 - val_accuracy: 0.9710 - 4s/epoch - 11ms/step\n",
      "Epoch 15/20\n",
      "336/336 - 4s - loss: 0.0158 - accuracy: 0.9951 - val_loss: 0.1097 - val_accuracy: 0.9786 - 4s/epoch - 11ms/step\n",
      "Epoch 16/20\n",
      "336/336 - 4s - loss: 0.0151 - accuracy: 0.9951 - val_loss: 0.0980 - val_accuracy: 0.9773 - 4s/epoch - 11ms/step\n",
      "Epoch 17/20\n",
      "336/336 - 4s - loss: 0.0094 - accuracy: 0.9966 - val_loss: 0.1104 - val_accuracy: 0.9788 - 4s/epoch - 13ms/step\n",
      "Epoch 18/20\n",
      "336/336 - 4s - loss: 0.0061 - accuracy: 0.9981 - val_loss: 0.1277 - val_accuracy: 0.9746 - 4s/epoch - 11ms/step\n",
      "Epoch 19/20\n",
      "336/336 - 4s - loss: 0.0215 - accuracy: 0.9938 - val_loss: 0.1091 - val_accuracy: 0.9760 - 4s/epoch - 12ms/step\n",
      "Epoch 20/20\n",
      "336/336 - 4s - loss: 0.0086 - accuracy: 0.9972 - val_loss: 0.1234 - val_accuracy: 0.9768 - 4s/epoch - 11ms/step\n"
     ]
    }
   ],
   "source": [
    "history2a = model2a.fit(X_train, y_train,\n",
    "                        batch_size = batch_size,\n",
    "                        epochs = training_epochs,\n",
    "                        verbose = 2,\n",
    "                        validation_data=(X_cv, y_cv))"
   ]
  },
  {
   "cell_type": "markdown",
   "metadata": {
    "_cell_guid": "590e8fcc-b3da-41e7-984d-d5d53aa5cb81",
    "_execution_state": "idle",
    "_uuid": "42520a694b6caf71582c6d5aad5a8599d52e5096"
   },
   "source": [
    "Model 2B"
   ]
  },
  {
   "cell_type": "code",
   "execution_count": 21,
   "metadata": {
    "_cell_guid": "18ef2f7d-f9a6-4609-8fd4-7d98cb7bc82f",
    "_execution_state": "busy",
    "_uuid": "fbc0a1e06296ada3553c9328e48861645680bbf9"
   },
   "outputs": [
    {
     "name": "stderr",
     "output_type": "stream",
     "text": [
      "WARNING:absl:`lr` is deprecated in Keras optimizer, please use `learning_rate` or use the legacy optimizer, e.g.,tf.keras.optimizers.legacy.Adam.\n"
     ]
    }
   ],
   "source": [
    "Inp = Input(shape=(784,))\n",
    "x = Dense(n_hidden_1, activation='relu', name = \"Hidden_Layer_1\")(Inp)\n",
    "x = Dense(n_hidden_2, activation='relu', name = \"Hidden_Layer_2\")(x)\n",
    "x = Dense(n_hidden_3, activation='relu', name = \"Hidden_Layer_3\")(x)\n",
    "x = Dense(n_hidden_4, activation='relu', name = \"Hidden_Layer_4\")(x)\n",
    "output = Dense(num_digits, activation='softmax', name = \"Output_Layer\")(x)\n",
    "\n",
    "learning_rate = 0.5\n",
    "adam = keras.optimizers.Adam(lr=learning_rate)\n",
    "model2b = Model(Inp, output)\n",
    "\n",
    "model2b.compile(loss='categorical_crossentropy',\n",
    "              optimizer='adam',\n",
    "              metrics=['accuracy'])"
   ]
  },
  {
   "cell_type": "code",
   "execution_count": 22,
   "metadata": {
    "_cell_guid": "ad3ac83b-a040-42ba-9d62-2203e62a82ec",
    "_execution_state": "busy",
    "_uuid": "c2e1a75c4a95acdfd3d5ce81af0c20bce995ca24"
   },
   "outputs": [
    {
     "name": "stdout",
     "output_type": "stream",
     "text": [
      "Epoch 1/20\n",
      "336/336 [==============================] - 5s 12ms/step - loss: 0.3305 - accuracy: 0.9027 - val_loss: 0.1535 - val_accuracy: 0.9526\n",
      "Epoch 2/20\n",
      "336/336 [==============================] - 4s 12ms/step - loss: 0.1216 - accuracy: 0.9625 - val_loss: 0.1160 - val_accuracy: 0.9646\n",
      "Epoch 3/20\n",
      "336/336 [==============================] - 4s 12ms/step - loss: 0.0826 - accuracy: 0.9742 - val_loss: 0.0917 - val_accuracy: 0.9727\n",
      "Epoch 4/20\n",
      "336/336 [==============================] - 4s 12ms/step - loss: 0.0580 - accuracy: 0.9815 - val_loss: 0.0968 - val_accuracy: 0.9726\n",
      "Epoch 5/20\n",
      "336/336 [==============================] - 4s 13ms/step - loss: 0.0441 - accuracy: 0.9851 - val_loss: 0.1141 - val_accuracy: 0.9671\n",
      "Epoch 6/20\n",
      "336/336 [==============================] - 4s 12ms/step - loss: 0.0318 - accuracy: 0.9899 - val_loss: 0.1002 - val_accuracy: 0.9749\n",
      "Epoch 7/20\n",
      "336/336 [==============================] - 4s 13ms/step - loss: 0.0307 - accuracy: 0.9901 - val_loss: 0.1001 - val_accuracy: 0.9720\n",
      "Epoch 8/20\n",
      "336/336 [==============================] - 4s 12ms/step - loss: 0.0290 - accuracy: 0.9905 - val_loss: 0.1053 - val_accuracy: 0.9730\n",
      "Epoch 9/20\n",
      "336/336 [==============================] - 3s 10ms/step - loss: 0.0201 - accuracy: 0.9935 - val_loss: 0.1198 - val_accuracy: 0.9725\n",
      "Epoch 10/20\n",
      "336/336 [==============================] - 4s 10ms/step - loss: 0.0249 - accuracy: 0.9912 - val_loss: 0.1044 - val_accuracy: 0.9745\n",
      "Epoch 11/20\n",
      "336/336 [==============================] - 4s 12ms/step - loss: 0.0179 - accuracy: 0.9941 - val_loss: 0.1147 - val_accuracy: 0.9732\n",
      "Epoch 12/20\n",
      "336/336 [==============================] - 4s 12ms/step - loss: 0.0227 - accuracy: 0.9925 - val_loss: 0.1174 - val_accuracy: 0.9752\n",
      "Epoch 13/20\n",
      "336/336 [==============================] - 4s 11ms/step - loss: 0.0179 - accuracy: 0.9946 - val_loss: 0.1096 - val_accuracy: 0.9781\n",
      "Epoch 14/20\n",
      "336/336 [==============================] - 4s 12ms/step - loss: 0.0133 - accuracy: 0.9957 - val_loss: 0.1159 - val_accuracy: 0.9750\n",
      "Epoch 15/20\n",
      "336/336 [==============================] - 4s 11ms/step - loss: 0.0136 - accuracy: 0.9955 - val_loss: 0.1303 - val_accuracy: 0.9739\n",
      "Epoch 16/20\n",
      "336/336 [==============================] - 3s 10ms/step - loss: 0.0176 - accuracy: 0.9942 - val_loss: 0.1141 - val_accuracy: 0.9764\n",
      "Epoch 17/20\n",
      "336/336 [==============================] - 4s 12ms/step - loss: 0.0091 - accuracy: 0.9971 - val_loss: 0.1096 - val_accuracy: 0.9781\n",
      "Epoch 18/20\n",
      "336/336 [==============================] - 4s 12ms/step - loss: 0.0159 - accuracy: 0.9951 - val_loss: 0.1104 - val_accuracy: 0.9780\n",
      "Epoch 19/20\n",
      "336/336 [==============================] - 4s 12ms/step - loss: 0.0089 - accuracy: 0.9975 - val_loss: 0.1179 - val_accuracy: 0.9780\n",
      "Epoch 20/20\n",
      "336/336 [==============================] - 4s 12ms/step - loss: 0.0124 - accuracy: 0.9960 - val_loss: 0.1163 - val_accuracy: 0.9769\n"
     ]
    }
   ],
   "source": [
    "history2b = model2b.fit(X_train, y_train,\n",
    "                        batch_size = batch_size,\n",
    "                        epochs = training_epochs,\n",
    "                            validation_data=(X_cv, y_cv))"
   ]
  },
  {
   "cell_type": "markdown",
   "metadata": {
    "_cell_guid": "9189bb25-f243-4edf-a7a0-943ec633760d",
    "_execution_state": "idle",
    "_uuid": "a36eb4079d02e6d3997d107fc5e3dd3a452a0fc9"
   },
   "source": [
    "The accuracy, as measured by the 3 different learning rates 0.01, 0.1 and 0.5 are around 98%, 97% and 98% respectively. As there are no considerable gains by changing the learning rates, we stick with the default learning rate of 0.01.\n",
    "\n",
    "We proceed to fit a neural network with 5 hidden layers with the features in the hidden layer set as (300, 100, 100, 100, 200) respectively. To ensure that the two models are comparable, we will set the training epochs as 20, and the training batch size as 100."
   ]
  },
  {
   "cell_type": "code",
   "execution_count": 23,
   "metadata": {
    "_cell_guid": "25d57f65-533c-432b-bd4a-a3127101d4bb",
    "_execution_state": "busy",
    "_uuid": "c19270be516858cca76b3479417e4017877896b1"
   },
   "outputs": [],
   "source": [
    "# Input Parameters\n",
    "n_input = 784 # number of features\n",
    "n_hidden_1 = 300\n",
    "n_hidden_2 = 100\n",
    "n_hidden_3 = 100\n",
    "n_hidden_4 = 100\n",
    "n_hidden_5 = 200\n",
    "num_digits = 10"
   ]
  },
  {
   "cell_type": "code",
   "execution_count": 24,
   "metadata": {
    "_cell_guid": "d179df94-04b5-4d1e-ab7f-882a72442837",
    "_execution_state": "busy",
    "_uuid": "c919e5d20e55f0c86152efbb729feeb0292abf0a"
   },
   "outputs": [],
   "source": [
    "Inp = Input(shape=(784,))\n",
    "x = Dense(n_hidden_1, activation='relu', name = \"Hidden_Layer_1\")(Inp)\n",
    "x = Dense(n_hidden_2, activation='relu', name = \"Hidden_Layer_2\")(x)\n",
    "x = Dense(n_hidden_3, activation='relu', name = \"Hidden_Layer_3\")(x)\n",
    "x = Dense(n_hidden_4, activation='relu', name = \"Hidden_Layer_4\")(x)\n",
    "x = Dense(n_hidden_5, activation='relu', name = \"Hidden_Layer_5\")(x)\n",
    "output = Dense(num_digits, activation='softmax', name = \"Output_Layer\")(x)"
   ]
  },
  {
   "cell_type": "code",
   "execution_count": 25,
   "metadata": {
    "_cell_guid": "04f2f013-41ee-48a7-9204-cfe8b748e09c",
    "_execution_state": "busy",
    "_uuid": "db189665726670192df8ed9e9758e908821f629b"
   },
   "outputs": [
    {
     "name": "stdout",
     "output_type": "stream",
     "text": [
      "Model: \"model_4\"\n",
      "_________________________________________________________________\n",
      " Layer (type)                Output Shape              Param #   \n",
      "=================================================================\n",
      " input_5 (InputLayer)        [(None, 784)]             0         \n",
      "                                                                 \n",
      " Hidden_Layer_1 (Dense)      (None, 300)               235500    \n",
      "                                                                 \n",
      " Hidden_Layer_2 (Dense)      (None, 100)               30100     \n",
      "                                                                 \n",
      " Hidden_Layer_3 (Dense)      (None, 100)               10100     \n",
      "                                                                 \n",
      " Hidden_Layer_4 (Dense)      (None, 100)               10100     \n",
      "                                                                 \n",
      " Hidden_Layer_5 (Dense)      (None, 200)               20200     \n",
      "                                                                 \n",
      " Output_Layer (Dense)        (None, 10)                2010      \n",
      "                                                                 \n",
      "=================================================================\n",
      "Total params: 308010 (1.17 MB)\n",
      "Trainable params: 308010 (1.17 MB)\n",
      "Non-trainable params: 0 (0.00 Byte)\n",
      "_________________________________________________________________\n"
     ]
    }
   ],
   "source": [
    "# Our model would have '7' layers - input layer, 5 hidden layer and 1 output layer\n",
    "model3 = Model(Inp, output)\n",
    "model3.summary() # We have 308,010 parameters to estimate"
   ]
  },
  {
   "cell_type": "code",
   "execution_count": 26,
   "metadata": {
    "_cell_guid": "3da4e128-5987-4fb3-a2c7-93420c844d1d",
    "_execution_state": "busy",
    "_uuid": "304ab7710bc6f2e56d698cc232fadbba6886b664"
   },
   "outputs": [
    {
     "name": "stderr",
     "output_type": "stream",
     "text": [
      "WARNING:absl:`lr` is deprecated in Keras optimizer, please use `learning_rate` or use the legacy optimizer, e.g.,tf.keras.optimizers.legacy.Adam.\n"
     ]
    }
   ],
   "source": [
    "# We rely on 'Adam' as our optimizing methodology\n",
    "adam = keras.optimizers.Adam(lr=0.01)\n",
    "\n",
    "model3.compile(loss='categorical_crossentropy',\n",
    "              optimizer='adam',\n",
    "              metrics=['accuracy'])"
   ]
  },
  {
   "cell_type": "code",
   "execution_count": 27,
   "metadata": {
    "_cell_guid": "f7ac3e43-bf76-488d-8ec6-31ec98228ee6",
    "_execution_state": "busy",
    "_uuid": "986fc367bbd1fc9767c30a03324c4d18e3bfd0d5"
   },
   "outputs": [
    {
     "name": "stdout",
     "output_type": "stream",
     "text": [
      "Epoch 1/20\n",
      "336/336 [==============================] - 6s 15ms/step - loss: 0.3620 - accuracy: 0.8921 - val_loss: 0.1664 - val_accuracy: 0.9479\n",
      "Epoch 2/20\n",
      "336/336 [==============================] - 4s 13ms/step - loss: 0.1231 - accuracy: 0.9623 - val_loss: 0.1223 - val_accuracy: 0.9618\n",
      "Epoch 3/20\n",
      "336/336 [==============================] - 4s 13ms/step - loss: 0.0838 - accuracy: 0.9733 - val_loss: 0.1313 - val_accuracy: 0.9638\n",
      "Epoch 4/20\n",
      "336/336 [==============================] - 5s 13ms/step - loss: 0.0630 - accuracy: 0.9795 - val_loss: 0.0959 - val_accuracy: 0.9701\n",
      "Epoch 5/20\n",
      "336/336 [==============================] - 5s 15ms/step - loss: 0.0513 - accuracy: 0.9840 - val_loss: 0.1074 - val_accuracy: 0.9695\n",
      "Epoch 6/20\n",
      "336/336 [==============================] - 4s 13ms/step - loss: 0.0410 - accuracy: 0.9869 - val_loss: 0.0844 - val_accuracy: 0.9769\n",
      "Epoch 7/20\n",
      "336/336 [==============================] - 5s 14ms/step - loss: 0.0338 - accuracy: 0.9897 - val_loss: 0.1439 - val_accuracy: 0.9639\n",
      "Epoch 8/20\n",
      "336/336 [==============================] - 5s 14ms/step - loss: 0.0314 - accuracy: 0.9899 - val_loss: 0.1026 - val_accuracy: 0.9732\n",
      "Epoch 9/20\n",
      "336/336 [==============================] - 4s 13ms/step - loss: 0.0284 - accuracy: 0.9907 - val_loss: 0.0952 - val_accuracy: 0.9745\n",
      "Epoch 10/20\n",
      "336/336 [==============================] - 5s 14ms/step - loss: 0.0243 - accuracy: 0.9924 - val_loss: 0.1228 - val_accuracy: 0.9708\n",
      "Epoch 11/20\n",
      "336/336 [==============================] - 4s 13ms/step - loss: 0.0191 - accuracy: 0.9936 - val_loss: 0.0963 - val_accuracy: 0.9754\n",
      "Epoch 12/20\n",
      "336/336 [==============================] - 4s 13ms/step - loss: 0.0222 - accuracy: 0.9929 - val_loss: 0.1044 - val_accuracy: 0.9758\n",
      "Epoch 13/20\n",
      "336/336 [==============================] - 6s 18ms/step - loss: 0.0180 - accuracy: 0.9947 - val_loss: 0.1091 - val_accuracy: 0.9750\n",
      "Epoch 14/20\n",
      "336/336 [==============================] - 5s 14ms/step - loss: 0.0157 - accuracy: 0.9951 - val_loss: 0.1118 - val_accuracy: 0.9739\n",
      "Epoch 15/20\n",
      "336/336 [==============================] - 4s 13ms/step - loss: 0.0176 - accuracy: 0.9945 - val_loss: 0.1231 - val_accuracy: 0.9713\n",
      "Epoch 16/20\n",
      "336/336 [==============================] - 5s 14ms/step - loss: 0.0189 - accuracy: 0.9940 - val_loss: 0.1141 - val_accuracy: 0.9738\n",
      "Epoch 17/20\n",
      "336/336 [==============================] - 5s 16ms/step - loss: 0.0090 - accuracy: 0.9973 - val_loss: 0.1510 - val_accuracy: 0.9700\n",
      "Epoch 18/20\n",
      "336/336 [==============================] - 5s 14ms/step - loss: 0.0126 - accuracy: 0.9963 - val_loss: 0.1330 - val_accuracy: 0.9732\n",
      "Epoch 19/20\n",
      "336/336 [==============================] - 7s 20ms/step - loss: 0.0122 - accuracy: 0.9962 - val_loss: 0.1294 - val_accuracy: 0.9755\n",
      "Epoch 20/20\n",
      "336/336 [==============================] - 7s 20ms/step - loss: 0.0154 - accuracy: 0.9954 - val_loss: 0.1178 - val_accuracy: 0.9779\n"
     ]
    }
   ],
   "source": [
    "history3 = model3.fit(X_train, y_train,\n",
    "                      batch_size = batch_size,\n",
    "                      epochs = training_epochs,\n",
    "                      validation_data=(X_cv, y_cv))"
   ]
  },
  {
   "cell_type": "markdown",
   "metadata": {
    "_cell_guid": "d6d4f220-5431-4221-be1d-2a6ceae86ac9",
    "_execution_state": "idle",
    "_uuid": "595cd530b900cf25bb1774eabd22afff49b980df"
   },
   "source": [
    "Compared to our first model, adding an additional layer did not significantly improve the accuracy from our previous model. However, there are computational costs (in terms of complexity) in implementing an additional layer in our neural network. Given that the benefits of an additional layer are low while the costs are high, we will stick with the 4 layer neural network.\n",
    "\n",
    "We now proceed to include dropout (dropout rate of 0.3) in our second model to prevent overfitting."
   ]
  },
  {
   "cell_type": "code",
   "execution_count": 28,
   "metadata": {
    "_cell_guid": "9054eb9b-e655-415c-93e7-3f0ca45d84ac",
    "_execution_state": "busy",
    "_uuid": "608b71d5bd8dc23df6d916e7371887fd52dd24d8"
   },
   "outputs": [],
   "source": [
    "# Input Parameters\n",
    "n_input = 784 # number of features\n",
    "n_hidden_1 = 300\n",
    "n_hidden_2 = 100\n",
    "n_hidden_3 = 100\n",
    "n_hidden_4 = 200\n",
    "num_digits = 10"
   ]
  },
  {
   "cell_type": "code",
   "execution_count": 29,
   "metadata": {
    "_cell_guid": "0541e860-b2f6-43cd-8d00-254e9daf775a",
    "_execution_state": "busy",
    "_uuid": "d6335bd113992a8898679d1a5d09ed2eda3fe5af"
   },
   "outputs": [],
   "source": [
    "Inp = Input(shape=(784,))\n",
    "x = Dense(n_hidden_1, activation='relu', name = \"Hidden_Layer_1\")(Inp)\n",
    "x = Dropout(0.3)(x)\n",
    "x = Dense(n_hidden_2, activation='relu', name = \"Hidden_Layer_2\")(x)\n",
    "x = Dropout(0.3)(x)\n",
    "x = Dense(n_hidden_3, activation='relu', name = \"Hidden_Layer_3\")(x)\n",
    "x = Dropout(0.3)(x)\n",
    "x = Dense(n_hidden_4, activation='relu', name = \"Hidden_Layer_4\")(x)\n",
    "output = Dense(num_digits, activation='softmax', name = \"Output_Layer\")(x)"
   ]
  },
  {
   "cell_type": "code",
   "execution_count": 30,
   "metadata": {
    "_cell_guid": "95f4299a-0e1c-4dca-b7d5-839e7a5e8fc8",
    "_execution_state": "busy",
    "_uuid": "08e56562d89bcd25756bc5bbbb4f33ceb87f106e"
   },
   "outputs": [
    {
     "name": "stdout",
     "output_type": "stream",
     "text": [
      "Model: \"model_5\"\n",
      "_________________________________________________________________\n",
      " Layer (type)                Output Shape              Param #   \n",
      "=================================================================\n",
      " input_6 (InputLayer)        [(None, 784)]             0         \n",
      "                                                                 \n",
      " Hidden_Layer_1 (Dense)      (None, 300)               235500    \n",
      "                                                                 \n",
      " dropout (Dropout)           (None, 300)               0         \n",
      "                                                                 \n",
      " Hidden_Layer_2 (Dense)      (None, 100)               30100     \n",
      "                                                                 \n",
      " dropout_1 (Dropout)         (None, 100)               0         \n",
      "                                                                 \n",
      " Hidden_Layer_3 (Dense)      (None, 100)               10100     \n",
      "                                                                 \n",
      " dropout_2 (Dropout)         (None, 100)               0         \n",
      "                                                                 \n",
      " Hidden_Layer_4 (Dense)      (None, 200)               20200     \n",
      "                                                                 \n",
      " Output_Layer (Dense)        (None, 10)                2010      \n",
      "                                                                 \n",
      "=================================================================\n",
      "Total params: 297910 (1.14 MB)\n",
      "Trainable params: 297910 (1.14 MB)\n",
      "Non-trainable params: 0 (0.00 Byte)\n",
      "_________________________________________________________________\n"
     ]
    }
   ],
   "source": [
    "# Our model would have '6' layers - input layer, 4 hidden layer and 1 output layer\n",
    "model4 = Model(Inp, output)\n",
    "model4.summary() # We have 297,910 parameters to estimate"
   ]
  },
  {
   "cell_type": "code",
   "execution_count": 31,
   "metadata": {
    "_cell_guid": "ed1c4a9d-730e-4e4d-8a25-4448d877d5b6",
    "_execution_state": "busy",
    "_uuid": "2328fa07b0f4c63448b0c30b7ae450df2b0fe3be"
   },
   "outputs": [],
   "source": [
    "model4.compile(loss='categorical_crossentropy',\n",
    "              optimizer='adam',\n",
    "              metrics=['accuracy'])"
   ]
  },
  {
   "cell_type": "code",
   "execution_count": 32,
   "metadata": {
    "_cell_guid": "8543232e-da2b-46ce-9a5e-06e6283b854a",
    "_execution_state": "busy",
    "_uuid": "986af85bbaf1b212b00cf28dc9204339b717ee48"
   },
   "outputs": [
    {
     "name": "stdout",
     "output_type": "stream",
     "text": [
      "Epoch 1/20\n",
      "336/336 [==============================] - 9s 23ms/step - loss: 0.5839 - accuracy: 0.8125 - val_loss: 0.1982 - val_accuracy: 0.9440\n",
      "Epoch 2/20\n",
      "336/336 [==============================] - 7s 22ms/step - loss: 0.2357 - accuracy: 0.9306 - val_loss: 0.1400 - val_accuracy: 0.9600\n",
      "Epoch 3/20\n",
      "336/336 [==============================] - 7s 21ms/step - loss: 0.1722 - accuracy: 0.9496 - val_loss: 0.1165 - val_accuracy: 0.9676\n",
      "Epoch 4/20\n",
      "336/336 [==============================] - 7s 22ms/step - loss: 0.1372 - accuracy: 0.9595 - val_loss: 0.1107 - val_accuracy: 0.9676\n",
      "Epoch 5/20\n",
      "336/336 [==============================] - 4s 12ms/step - loss: 0.1275 - accuracy: 0.9632 - val_loss: 0.1029 - val_accuracy: 0.9712\n",
      "Epoch 6/20\n",
      "336/336 [==============================] - 6s 17ms/step - loss: 0.1084 - accuracy: 0.9688 - val_loss: 0.1019 - val_accuracy: 0.9719\n",
      "Epoch 7/20\n",
      "336/336 [==============================] - 7s 20ms/step - loss: 0.0992 - accuracy: 0.9704 - val_loss: 0.0955 - val_accuracy: 0.9743\n",
      "Epoch 8/20\n",
      "336/336 [==============================] - 5s 16ms/step - loss: 0.0884 - accuracy: 0.9730 - val_loss: 0.0876 - val_accuracy: 0.9756\n",
      "Epoch 9/20\n",
      "336/336 [==============================] - 6s 17ms/step - loss: 0.0835 - accuracy: 0.9760 - val_loss: 0.0917 - val_accuracy: 0.9764\n",
      "Epoch 10/20\n",
      "336/336 [==============================] - 8s 24ms/step - loss: 0.0717 - accuracy: 0.9788 - val_loss: 0.0869 - val_accuracy: 0.9771\n",
      "Epoch 11/20\n",
      "336/336 [==============================] - 8s 23ms/step - loss: 0.0688 - accuracy: 0.9796 - val_loss: 0.0888 - val_accuracy: 0.9783\n",
      "Epoch 12/20\n",
      "336/336 [==============================] - 7s 20ms/step - loss: 0.0642 - accuracy: 0.9809 - val_loss: 0.0860 - val_accuracy: 0.9785\n",
      "Epoch 13/20\n",
      "336/336 [==============================] - 6s 19ms/step - loss: 0.0611 - accuracy: 0.9810 - val_loss: 0.0893 - val_accuracy: 0.9777\n",
      "Epoch 14/20\n",
      "336/336 [==============================] - 4s 13ms/step - loss: 0.0585 - accuracy: 0.9824 - val_loss: 0.0875 - val_accuracy: 0.9789\n",
      "Epoch 15/20\n",
      "336/336 [==============================] - 5s 15ms/step - loss: 0.0547 - accuracy: 0.9842 - val_loss: 0.0892 - val_accuracy: 0.9792\n",
      "Epoch 16/20\n",
      "336/336 [==============================] - 5s 16ms/step - loss: 0.0566 - accuracy: 0.9835 - val_loss: 0.0792 - val_accuracy: 0.9805\n",
      "Epoch 17/20\n",
      "336/336 [==============================] - 5s 14ms/step - loss: 0.0447 - accuracy: 0.9857 - val_loss: 0.0808 - val_accuracy: 0.9795\n",
      "Epoch 18/20\n",
      "336/336 [==============================] - 5s 15ms/step - loss: 0.0485 - accuracy: 0.9861 - val_loss: 0.0906 - val_accuracy: 0.9779\n",
      "Epoch 19/20\n",
      "336/336 [==============================] - 5s 14ms/step - loss: 0.0443 - accuracy: 0.9866 - val_loss: 0.0893 - val_accuracy: 0.9795\n",
      "Epoch 20/20\n",
      "336/336 [==============================] - 5s 14ms/step - loss: 0.0443 - accuracy: 0.9865 - val_loss: 0.0824 - val_accuracy: 0.9795\n"
     ]
    }
   ],
   "source": [
    "history = model4.fit(X_train, y_train,\n",
    "                    batch_size = batch_size,\n",
    "                    epochs = training_epochs,\n",
    "                    validation_data=(X_cv, y_cv))"
   ]
  },
  {
   "cell_type": "markdown",
   "metadata": {
    "_cell_guid": "07d922d5-ec8a-4b3b-8e02-a0aafc3ad52a",
    "_execution_state": "idle",
    "_uuid": "ad316467bedf355759a181d353850f1d365ee05b"
   },
   "source": [
    "With a validation score of close to 98%, we proceed to use this model to predict for the test set."
   ]
  }
 ],
 "metadata": {
  "kernelspec": {
   "display_name": "Python 3 (ipykernel)",
   "language": "python",
   "name": "python3"
  },
  "language_info": {
   "codemirror_mode": {
    "name": "ipython",
    "version": 3
   },
   "file_extension": ".py",
   "mimetype": "text/x-python",
   "name": "python",
   "nbconvert_exporter": "python",
   "pygments_lexer": "ipython3",
   "version": "3.9.13"
  }
 },
 "nbformat": 4,
 "nbformat_minor": 1
}
